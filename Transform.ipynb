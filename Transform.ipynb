{
 "cells": [
  {
   "cell_type": "code",
   "execution_count": 0,
   "metadata": {
    "application/vnd.databricks.v1+cell": {
     "cellMetadata": {
      "byteLimit": 2048000,
      "rowLimit": 10000
     },
     "inputWidgets": {},
     "nuid": "b15f283e-a289-407e-aeba-ae749829c7b1",
     "showTitle": false,
     "tableResultSettingsMap": {},
     "title": ""
    }
   },
   "outputs": [],
   "source": [
    "from pyspark import *\n",
    "from pyspark.sql import *\n",
    "from pyspark.sql.functions import col, when, round, rand, floor"
   ]
  },
  {
   "cell_type": "code",
   "execution_count": 0,
   "metadata": {
    "application/vnd.databricks.v1+cell": {
     "cellMetadata": {
      "byteLimit": 2048000,
      "rowLimit": 10000
     },
     "inputWidgets": {},
     "nuid": "4eecde1a-15a1-4175-bbec-dfc6ac28f402",
     "showTitle": false,
     "tableResultSettingsMap": {},
     "title": ""
    }
   },
   "outputs": [],
   "source": [
    "df_customers = spark.read.format(\"delta\").load(\"/Volumes/workspace/default/etl_path/bronze_layer/customers/\")\n",
    "df_employees = spark.read.format(\"delta\").load(\"/Volumes/workspace/default/etl_path/bronze_layer/employees/\")\n",
    "df_sales = spark.read.format(\"delta\").load(\"/Volumes/workspace/default/etl_path/bronze_layer/sales\")"
   ]
  },
  {
   "cell_type": "code",
   "execution_count": 0,
   "metadata": {
    "application/vnd.databricks.v1+cell": {
     "cellMetadata": {
      "byteLimit": 2048000,
      "rowLimit": 10000
     },
     "inputWidgets": {},
     "nuid": "4271d4bf-1bd8-4a92-8a51-4d62e57ad692",
     "showTitle": false,
     "tableResultSettingsMap": {},
     "title": ""
    }
   },
   "outputs": [
    {
     "output_type": "stream",
     "name": "stdout",
     "output_type": "stream",
     "text": [
      "root\n |-- customer_id: string (nullable = true)\n |-- first_name: string (nullable = true)\n |-- last_name: string (nullable = true)\n |-- email: string (nullable = true)\n |-- phone_number: string (nullable = true)\n |-- country: string (nullable = true)\n |-- created_at: timestamp (nullable = true)\n\nroot\n |-- sale_id: integer (nullable = true)\n |-- customer_id: integer (nullable = true)\n |-- employee_id: integer (nullable = true)\n |-- product: string (nullable = true)\n |-- category: string (nullable = true)\n |-- amount: double (nullable = true)\n |-- sale_date: timestamp (nullable = true)\n |-- payment_method: string (nullable = true)\n\nroot\n |-- employee_id: integer (nullable = true)\n |-- first_name: string (nullable = true)\n |-- last_name: string (nullable = true)\n |-- position: string (nullable = true)\n |-- email: string (nullable = true)\n |-- hire_date: date (nullable = true)\n |-- region: string (nullable = true)\n |-- salary: double (nullable = true)\n |-- yoe: integer (nullable = true)\n\n"
     ]
    }
   ],
   "source": [
    "df_customers.printSchema()\n",
    "df_sales.printSchema()\n",
    "df_employees.printSchema()"
   ]
  },
  {
   "cell_type": "code",
   "execution_count": 0,
   "metadata": {
    "application/vnd.databricks.v1+cell": {
     "cellMetadata": {
      "byteLimit": 2048000,
      "rowLimit": 10000
     },
     "inputWidgets": {},
     "nuid": "18c94cce-8b08-45a4-9f51-d9789cf08efa",
     "showTitle": false,
     "tableResultSettingsMap": {},
     "title": ""
    }
   },
   "outputs": [],
   "source": [
    "df_employees = df_employees.withColumn(\n",
    "    \"employee_category\",\n",
    "    when(col(\"yoe\") > 5, \"Senior\")\n",
    "    .when((col(\"yoe\") > 3) & (col(\"yoe\") <= 5), \"Mid-Level\")\n",
    "    .when((col(\"yoe\") > 0) & (col(\"yoe\") <= 3), \"Junior\")\n",
    "    .otherwise(\"Regular\")\n",
    ")"
   ]
  },
  {
   "cell_type": "code",
   "execution_count": 0,
   "metadata": {
    "application/vnd.databricks.v1+cell": {
     "cellMetadata": {
      "byteLimit": 2048000,
      "rowLimit": 10000
     },
     "inputWidgets": {},
     "nuid": "b05c059f-a4e7-44dc-8909-3b516465eb0e",
     "showTitle": false,
     "tableResultSettingsMap": {},
     "title": ""
    }
   },
   "outputs": [],
   "source": [
    "df_sales = df_sales.withColumnRenamed(\"amount\", \"price\")"
   ]
  },
  {
   "cell_type": "code",
   "execution_count": 0,
   "metadata": {
    "application/vnd.databricks.v1+cell": {
     "cellMetadata": {
      "byteLimit": 2048000,
      "rowLimit": 10000
     },
     "inputWidgets": {},
     "nuid": "090f26ab-3e5e-4d5c-ae57-3173d3cf96ad",
     "showTitle": false,
     "tableResultSettingsMap": {},
     "title": ""
    }
   },
   "outputs": [],
   "source": [
    "df_sales = df_sales.withColumn(\n",
    "    \"quantity\", \n",
    "    (floor(rand() * 12) + 1).cast(\"int\")\n",
    ")"
   ]
  },
  {
   "cell_type": "code",
   "execution_count": 0,
   "metadata": {
    "application/vnd.databricks.v1+cell": {
     "cellMetadata": {
      "byteLimit": 2048000,
      "rowLimit": 10000
     },
     "inputWidgets": {},
     "nuid": "f6229c04-84bd-4aa0-9cac-f213b46bc5a1",
     "showTitle": false,
     "tableResultSettingsMap": {},
     "title": ""
    }
   },
   "outputs": [],
   "source": [
    "df_sales = df_sales.select(\n",
    "    \"sale_id\",\n",
    "    \"customer_id\",\n",
    "    \"employee_id\",\n",
    "    \"product\",\n",
    "    \"category\",\n",
    "    \"price\",\n",
    "    \"quantity\",\n",
    "    \"sale_date\",\n",
    "    \"payment_method\"\n",
    ")"
   ]
  },
  {
   "cell_type": "code",
   "execution_count": 0,
   "metadata": {
    "application/vnd.databricks.v1+cell": {
     "cellMetadata": {
      "byteLimit": 2048000,
      "rowLimit": 10000
     },
     "inputWidgets": {},
     "nuid": "202f0819-ffec-49c2-bac8-6bfb435fed61",
     "showTitle": false,
     "tableResultSettingsMap": {},
     "title": ""
    }
   },
   "outputs": [],
   "source": [
    "df_sales = df_sales.withColumn(\n",
    "    \"total\",\n",
    "    round(col(\"quantity\") * col(\"price\"), 2)\n",
    ")"
   ]
  },
  {
   "cell_type": "code",
   "execution_count": 0,
   "metadata": {
    "application/vnd.databricks.v1+cell": {
     "cellMetadata": {
      "byteLimit": 2048000,
      "rowLimit": 10000
     },
     "inputWidgets": {},
     "nuid": "141099e9-6d56-44ef-a3c5-17e726e9709b",
     "showTitle": false,
     "tableResultSettingsMap": {},
     "title": ""
    }
   },
   "outputs": [],
   "source": [
    "df_sales = df_sales.select(\n",
    "    \"sale_id\",\n",
    "    \"customer_id\",\n",
    "    \"employee_id\",\n",
    "    \"product\",\n",
    "    \"category\",\n",
    "    \"price\",\n",
    "    \"quantity\",\n",
    "    \"total\",\n",
    "    \"sale_date\",\n",
    "    \"payment_method\"\n",
    ")"
   ]
  },
  {
   "cell_type": "code",
   "execution_count": 0,
   "metadata": {
    "application/vnd.databricks.v1+cell": {
     "cellMetadata": {
      "byteLimit": 2048000,
      "rowLimit": 10000
     },
     "inputWidgets": {},
     "nuid": "201d908d-6629-4c17-8538-8c3363d7b31c",
     "showTitle": false,
     "tableResultSettingsMap": {},
     "title": ""
    }
   },
   "outputs": [],
   "source": [
    "df_customers.write.mode(\"overwrite\").format(\"delta\").save(\"/Volumes/workspace/default/etl_path/silver_layer/customers\")\n",
    "df_employees.write.mode(\"overwrite\").format(\"delta\").save(\"/Volumes/workspace/default/etl_path/silver_layer/employees\")\n",
    "df_sales.write \\\n",
    "    .format(\"delta\") \\\n",
    "    .mode(\"overwrite\") \\\n",
    "    .option(\"mergeSchema\", \"true\") \\\n",
    "    .save(\"/Volumes/workspace/default/etl_path/silver_layer/sales\")"
   ]
  }
 ],
 "metadata": {
  "application/vnd.databricks.v1+notebook": {
   "computePreferences": {
    "hardware": {
     "accelerator": null,
     "gpuPoolId": null,
     "memory": null
    }
   },
   "dashboards": [],
   "environmentMetadata": null,
   "inputWidgetPreferences": null,
   "language": "python",
   "notebookMetadata": {
    "pythonIndentUnit": 4
   },
   "notebookName": "Transform",
   "widgets": {}
  },
  "language_info": {
   "name": "python"
  }
 },
 "nbformat": 4,
 "nbformat_minor": 0
}