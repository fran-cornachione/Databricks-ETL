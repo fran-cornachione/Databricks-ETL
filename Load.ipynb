{
 "cells": [
  {
   "cell_type": "code",
   "execution_count": 0,
   "metadata": {
    "application/vnd.databricks.v1+cell": {
     "cellMetadata": {
      "byteLimit": 2048000,
      "rowLimit": 10000
     },
     "inputWidgets": {},
     "nuid": "1c0d2720-54e2-4c8d-9155-e8c827ba0255",
     "showTitle": false,
     "tableResultSettingsMap": {},
     "title": ""
    }
   },
   "outputs": [],
   "source": [
    "import boto3\n",
    "import os"
   ]
  },
  {
   "cell_type": "code",
   "execution_count": 0,
   "metadata": {
    "application/vnd.databricks.v1+cell": {
     "cellMetadata": {
      "byteLimit": 2048000,
      "rowLimit": 10000
     },
     "inputWidgets": {},
     "nuid": "fb80a72d-15fa-4e18-a04f-16b8f7ac05e1",
     "showTitle": false,
     "tableResultSettingsMap": {},
     "title": ""
    }
   },
   "outputs": [],
   "source": [
    "df_customers = spark.read.format(\"delta\").load(\"/Volumes/workspace/default/etl_path/silver_layer/customers\")\n",
    "df_employees = spark.read.format(\"delta\").load(\"/Volumes/workspace/default/etl_path/silver_layer/employees\")\n",
    "df_sales = spark.read.format(\"delta\").load(\"/Volumes/workspace/default/etl_path/silver_layer/sales\")"
   ]
  },
  {
   "cell_type": "code",
   "execution_count": 0,
   "metadata": {
    "application/vnd.databricks.v1+cell": {
     "cellMetadata": {
      "byteLimit": 2048000,
      "rowLimit": 10000
     },
     "inputWidgets": {},
     "nuid": "a06d4a0f-1a2f-491a-a710-df7baba03de8",
     "showTitle": false,
     "tableResultSettingsMap": {},
     "title": ""
    }
   },
   "outputs": [],
   "source": [
    "df_customers.coalesce(1).write.mode(\"overwrite\").parquet(\"/Volumes/workspace/default/etl_path/gold_layer/customers\")\n",
    "df_sales.coalesce(1).write.mode(\"overwrite\").parquet(\"/Volumes/workspace/default/etl_path/gold_layer/sales\")\n",
    "df_employees.coalesce(1).write.mode(\"overwrite\").parquet(\"/Volumes/workspace/default/etl_path/gold_layer/employees\")"
   ]
  },
  {
   "cell_type": "code",
   "execution_count": 0,
   "metadata": {
    "application/vnd.databricks.v1+cell": {
     "cellMetadata": {
      "byteLimit": 2048000,
      "rowLimit": 10000
     },
     "inputWidgets": {},
     "nuid": "c2e79c74-f6e8-4efd-92db-a0678e25c9a9",
     "showTitle": false,
     "tableResultSettingsMap": {},
     "title": ""
    }
   },
   "outputs": [],
   "source": [
    "scope_name = 'aws-keys' # Your scope name\n",
    "ACCESS_KEY = dbutils.secrets.get(scope=scope_name, key=\"AWS_ACCESS_KEY_ID\") # Your AWS Access Key\n",
    "SECRET_KEY = dbutils.secrets.get(scope=scope_name, key=\"AWS_SECRET_ACCESS_KEY\") # Your AWS Secret Key\n",
    "AWS_BUCKET_NAME = \"csv-databricks-etl\" # Your S3 Bucket Name\n",
    "\n",
    "s3 = boto3.client('s3', aws_access_key_id=ACCESS_KEY, aws_secret_access_key=SECRET_KEY)\n",
    "\n",
    "base_path = '/Volumes/workspace/default/etl_path/gold_layer/'\n",
    "\n",
    "folders = ['customers', 'sales', 'employees']\n",
    "\n",
    "for folder in folders:\n",
    "    folder_path = os.path.join(base_path, folder)\n",
    "    for root, dirs, files in os.walk(folder_path):\n",
    "        for file_name in files:\n",
    "            local_file_path = os.path.join(root, file_name)\n",
    "            relative_path = os.path.relpath(local_file_path, base_path)\n",
    "            s3_key = f\"gold_layer/{relative_path.replace(os.sep, '/')}\"\n",
    "            with open(local_file_path, 'rb') as data:\n",
    "                s3.upload_fileobj(data, AWS_BUCKET_NAME, s3_key)\n",
    "            print(f\"Uploaded {file_name} to s3://{AWS_BUCKET_NAME}/{s3_key}\")"
   ]
  }
 ],
 "metadata": {
  "application/vnd.databricks.v1+notebook": {
   "computePreferences": {
    "hardware": {
     "accelerator": null,
     "gpuPoolId": null,
     "memory": null
    }
   },
   "dashboards": [],
   "environmentMetadata": null,
   "inputWidgetPreferences": null,
   "language": "python",
   "notebookMetadata": {
    "pythonIndentUnit": 4
   },
   "notebookName": "Load",
   "widgets": {}
  },
  "language_info": {
   "name": "python"
  }
 },
 "nbformat": 4,
 "nbformat_minor": 0
}
