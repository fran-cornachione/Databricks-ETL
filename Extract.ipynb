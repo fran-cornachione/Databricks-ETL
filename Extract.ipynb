{
 "cells": [
  {
   "cell_type": "code",
   "execution_count": 0,
   "metadata": {
    "application/vnd.databricks.v1+cell": {
     "cellMetadata": {
      "byteLimit": 2048000,
      "rowLimit": 10000
     },
     "inputWidgets": {},
     "nuid": "b416e06d-110d-4e1b-b324-109f4b73e090",
     "showTitle": false,
     "tableResultSettingsMap": {},
     "title": ""
    }
   },
   "outputs": [],
   "source": [
    "from pyspark import *\n",
    "from pyspark.sql import *\n",
    "from pyspark.sql.types import *"
   ]
  },
  {
   "cell_type": "code",
   "execution_count": 0,
   "metadata": {
    "application/vnd.databricks.v1+cell": {
     "cellMetadata": {
      "byteLimit": 2048000,
      "rowLimit": 10000
     },
     "inputWidgets": {},
     "nuid": "f6edb581-3610-44e0-8349-48a28ce11ed4",
     "showTitle": false,
     "tableResultSettingsMap": {},
     "title": ""
    }
   },
   "outputs": [],
   "source": [
    "customers_schema = StructType([\n",
    "  StructField(\"customer_id\", StringType(), False),\n",
    "  StructField(\"first_name\", StringType(), False),\n",
    "  StructField(\"last_name\", StringType(), False),\n",
    "  StructField(\"email\", StringType(), False),\n",
    "  StructField(\"phone_number\", StringType(), False),\n",
    "  StructField(\"country\", StringType(), False),\n",
    "  StructField(\"created_at\", TimestampType(), False)\n",
    "])"
   ]
  },
  {
   "cell_type": "code",
   "execution_count": 0,
   "metadata": {
    "application/vnd.databricks.v1+cell": {
     "cellMetadata": {
      "byteLimit": 2048000,
      "rowLimit": 10000
     },
     "inputWidgets": {},
     "nuid": "4bce892b-da76-4cc1-8e8b-b2a2a3880424",
     "showTitle": false,
     "tableResultSettingsMap": {},
     "title": ""
    }
   },
   "outputs": [],
   "source": [
    "employees_schema = StructType([\n",
    "  StructField(\"employee_id\", IntegerType(), False),\n",
    "  StructField(\"first_name\", StringType(), False),\n",
    "  StructField(\"last_name\", StringType(), False),\n",
    "  StructField(\"position\", StringType(), False),\n",
    "  StructField(\"email\", StringType(), False),\n",
    "  StructField(\"hire_date\", DateType(), False),\n",
    "  StructField(\"region\", StringType(), False),\n",
    "  StructField(\"salary\", DoubleType(), False),\n",
    "  StructField(\"yoe\", IntegerType(), False)\n",
    "])"
   ]
  },
  {
   "cell_type": "code",
   "execution_count": 0,
   "metadata": {
    "application/vnd.databricks.v1+cell": {
     "cellMetadata": {
      "byteLimit": 2048000,
      "rowLimit": 10000
     },
     "inputWidgets": {},
     "nuid": "0a04c998-100c-423c-98bc-cf3832834031",
     "showTitle": false,
     "tableResultSettingsMap": {},
     "title": ""
    }
   },
   "outputs": [],
   "source": [
    "sales_schema = StructType([\n",
    "  StructField(\"sale_id\", IntegerType(), False),\n",
    "  StructField(\"customer_id\", IntegerType(), False),\n",
    "  StructField(\"employee_id\", IntegerType(), False),\n",
    "  StructField(\"product\", StringType(), True),\n",
    "  StructField(\"category\", StringType(), True),\n",
    "  StructField(\"amount\", DoubleType(), True),\n",
    "  StructField(\"sale_date\", TimestampType(), True),\n",
    "  StructField(\"payment_method\", StringType(), True)\n",
    "])"
   ]
  },
  {
   "cell_type": "code",
   "execution_count": 0,
   "metadata": {
    "application/vnd.databricks.v1+cell": {
     "cellMetadata": {
      "byteLimit": 2048000,
      "rowLimit": 10000
     },
     "inputWidgets": {},
     "nuid": "8f6ef21d-ef19-4c76-a4fa-de468ec8e1a3",
     "showTitle": false,
     "tableResultSettingsMap": {},
     "title": ""
    }
   },
   "outputs": [],
   "source": [
    "df_customers = spark.read.schema(customers_schema).csv(\"/Volumes/workspace/default/etl_path/raw_data/customers.csv\", header=True)\n",
    "df_employees = spark.read.schema(employees_schema).csv(\"/Volumes/workspace/default/etl_path/raw_data/employees.csv\", header=True)\n",
    "df_sales = spark.read.schema(sales_schema).csv(\"/Volumes/workspace/default/etl_path/raw_data/sales.csv\", header=True)"
   ]
  },
  {
   "cell_type": "code",
   "execution_count": 0,
   "metadata": {
    "application/vnd.databricks.v1+cell": {
     "cellMetadata": {
      "byteLimit": 2048000,
      "rowLimit": 10000
     },
     "inputWidgets": {},
     "nuid": "195ed34d-57cb-4013-bae2-6cc45b94dfd9",
     "showTitle": false,
     "tableResultSettingsMap": {},
     "title": ""
    }
   },
   "outputs": [],
   "source": [
    "df_customers.write.mode(\"overwrite\").format(\"delta\").save(\"/Volumes/workspace/default/etl_path/bronze_layer/customers\")\n",
    "df_employees.write.mode(\"overwrite\").format(\"delta\").save(\"/Volumes/workspace/default/etl_path/bronze_layer/employees\")\n",
    "df_sales.write.mode(\"overwrite\").format(\"delta\").save(\"/Volumes/workspace/default/etl_path/bronze_layer/sales\")"
   ]
  }
 ],
 "metadata": {
  "application/vnd.databricks.v1+notebook": {
   "computePreferences": {
    "hardware": {
     "accelerator": null,
     "gpuPoolId": null,
     "memory": null
    }
   },
   "dashboards": [],
   "environmentMetadata": null,
   "inputWidgetPreferences": null,
   "language": "python",
   "notebookMetadata": {
    "mostRecentlyExecutedCommandWithImplicitDF": {
     "commandId": -1,
     "dataframes": [
      "_sqldf"
     ]
    },
    "pythonIndentUnit": 4
   },
   "notebookName": "Extract",
   "widgets": {}
  },
  "language_info": {
   "name": "python"
  }
 },
 "nbformat": 4,
 "nbformat_minor": 0
}
